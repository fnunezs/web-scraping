{
 "cells": [
  {
   "cell_type": "markdown",
   "id": "c34d3418",
   "metadata": {},
   "source": [
    "# <center><h3>Creación de un dataset de películas cinematográficas</h3><img src=\"img\\logo.png\" style=\"width:180px\" alt=\"detalle película\"/></center>"
   ]
  },
  {
   "cell_type": "markdown",
   "id": "e10c2ef7",
   "metadata": {},
   "source": [
    "## Introducción"
   ]
  },
  {
   "cell_type": "markdown",
   "id": "7366085f",
   "metadata": {},
   "source": [
    "Este documento explica el proceso para crear un *script* en lenguaje **Python** que, mediante *[web scraping](https://es.wikipedia.org/wiki/Web_scraping)*, permita generar un conjunto de datos con fichas técnicas y valoraciones de diferentes películas cinematográficas. Estos datos podrán ser utilizados posteriormente para analizar algoritmos de clasificación o diseñar un sistema de recomendación de películas sencillo. Estos últimos están hoy en día presentes en todas las plataformas de contenidos audiovisuales bajo demanda, siendo capaces de presentar a sus usuarios sugerencias sobre películas o series acordes a sus gustos y preferencias.\n",
    "\n",
    "En este caso práctico los datos serán extraídos del sitio web de críticas cinematográficas [Rotten Tomatoes](https://www.rottentomatoes.com). Uno de los agregadores de reseñas de películas y programas de televisión más veteranos y populares de Internet, cuyo sistema de puntuación o \"*[tomatometer](https://www.rottentomatoes.com/about)*\" se basa en las opiniones de cientos de críticos de cine y televisión.\n",
    "\n",
    "La siguiente imagen muestra la [página](https://www.rottentomatoes.com/top) de este sitio que se tomará como punto de partida para extraer los datos, en ella aparece señalado el listado al que se accederá para consultar cuales son las películas mejor valoradas en cada categoría:\n",
    "\n",
    "<img src=\"img\\rotten_topmovies.png\" style=\"width:550px\" alt=\"top películas por género\"/>\n",
    "\n",
    "Los enlaces del listado anterior dan a su vez acceso a los denominados \"*Top 100*\" de cada categoría. En la siguiente imagen se puede ver, por ejemplo, el perteneciente a las películas clasificadas como \"*Action and Adventure*\":\n",
    "\n",
    "<img src=\"img\\rotten_topaction.png\" style=\"width:550px\" alt=\"top películas de acción\"/>\n",
    "\n",
    "Seleccionando uno de las entradas del listado anterior se accede a la ficha de la película elegida, en la que se muestran, entre otros datos, su valoración y datos técnicos, tal y como se puede ver en esta imagen:\n",
    "\n",
    "<img src=\"img\\rotten_movie_detail.png\" style=\"width:450px\" alt=\"detalle película\"/>\n",
    "\n",
    "A continuación se describen los pasos necesarios para crear el programa Python que generará el *dataset* de las películas a partir de estas páginas web."
   ]
  },
  {
   "cell_type": "markdown",
   "id": "3c247b0b",
   "metadata": {},
   "source": [
    "### 1. Importar las librerías necesarias"
   ]
  },
  {
   "cell_type": "markdown",
   "id": "027b2951",
   "metadata": {},
   "source": [
    "El primer paso en la elaboración de este *script* será importar las librerías que utilizaremos para generar el *dataset*:"
   ]
  },
  {
   "cell_type": "code",
   "execution_count": 1,
   "id": "ae63dcb5",
   "metadata": {},
   "outputs": [],
   "source": [
    "import whois\n",
    "import builtwith\n",
    "import requests\n",
    "import time\n",
    "import re\n",
    "from bs4 import BeautifulSoup\n",
    "from selenium.webdriver import Chrome\n",
    "from selenium.webdriver.common.keys import Keys\n",
    "from selenium.webdriver.common.by import By\n",
    "import pandas as pd\n",
    "import matplotlib.pyplot as plt"
   ]
  },
  {
   "cell_type": "markdown",
   "id": "b646ced4",
   "metadata": {},
   "source": [
    "### 2. Información del sitio web"
   ]
  },
  {
   "cell_type": "markdown",
   "id": "2bf3fbfe",
   "metadata": {},
   "source": [
    "A continuación intentaremos averiguar quién es el propietario del sitio web, la tecnología que utiliza y las posibles restricciones a la hora de aplicar técnicas de *web scraping* a su contenido de acceso público."
   ]
  },
  {
   "cell_type": "markdown",
   "id": "71207f56",
   "metadata": {},
   "source": [
    "#### Propietario"
   ]
  },
  {
   "cell_type": "markdown",
   "id": "d1acb3b4",
   "metadata": {},
   "source": [
    "Dado que se trata de un dominio \".com\" y este código TLD (*Top Level Domain*) no está sujeto a tantas restricciones de privacidad como otros dominios, vamos a utilizar una de las utilidades de *[WHOIS](https://es.wikipedia.org/wiki/WHOIS)* que existen en Python."
   ]
  },
  {
   "cell_type": "code",
   "execution_count": 2,
   "id": "163ae1f9",
   "metadata": {},
   "outputs": [
    {
     "name": "stdout",
     "output_type": "stream",
     "text": [
      "{\n",
      "  \"domain_name\": [\n",
      "    \"ROTTENTOMATOES.COM\",\n",
      "    \"rottentomatoes.com\"\n",
      "  ],\n",
      "  \"registrar\": \"MarkMonitor, Inc.\",\n",
      "  \"whois_server\": \"whois.markmonitor.com\",\n",
      "  \"referral_url\": null,\n",
      "  \"updated_date\": [\n",
      "    \"2021-04-12 10:14:43\",\n",
      "    \"2021-04-12 03:14:43\"\n",
      "  ],\n",
      "  \"creation_date\": [\n",
      "    \"1999-05-14 08:36:32\",\n",
      "    \"1999-05-14 01:36:32\"\n",
      "  ],\n",
      "  \"expiration_date\": [\n",
      "    \"2023-05-14 08:37:07\",\n",
      "    \"2023-05-14 00:00:00\"\n",
      "  ],\n",
      "  \"name_servers\": [\n",
      "    \"UDNS1.ULTRADNS.NET\",\n",
      "    \"UDNS2.ULTRADNS.NET\",\n",
      "    \"udns1.ultradns.net\",\n",
      "    \"udns2.ultradns.net\"\n",
      "  ],\n",
      "  \"status\": [\n",
      "    \"clientDeleteProhibited https://icann.org/epp#clientDeleteProhibited\",\n",
      "    \"clientTransferProhibited https://icann.org/epp#clientTransferProhibited\",\n",
      "    \"clientUpdateProhibited https://icann.org/epp#clientUpdateProhibited\",\n",
      "    \"clientUpdateProhibited (https://www.icann.org/epp#clientUpdateProhibited)\",\n",
      "    \"clientTransferProhibited (https://www.icann.org/epp#clientTransferProhibited)\",\n",
      "    \"clientDeleteProhibited (https://www.icann.org/epp#clientDeleteProhibited)\"\n",
      "  ],\n",
      "  \"emails\": [\n",
      "    \"abusecomplaints@markmonitor.com\",\n",
      "    \"whoisrequest@markmonitor.com\"\n",
      "  ],\n",
      "  \"dnssec\": \"unsigned\",\n",
      "  \"name\": null,\n",
      "  \"org\": \"Fandango Media, LLC\",\n",
      "  \"address\": null,\n",
      "  \"city\": null,\n",
      "  \"state\": \"ca\",\n",
      "  \"zipcode\": null,\n",
      "  \"country\": \"US\"\n",
      "}\n"
     ]
    }
   ],
   "source": [
    "url =  \"http://www.rottentomatoes.com\"\n",
    "print(whois.whois(url))"
   ]
  },
  {
   "cell_type": "markdown",
   "id": "2d5aabe1",
   "metadata": {},
   "source": [
    "Como se puede observar, el registro del dominio parece estar a nombre de la empresa [Mark Monitor](https://www.markmonitor.com), aunque si atendemos a la información publicada en [Wikipedia](https://es.wikipedia.org/wiki/Rotten_Tomatoes), no sería el propietario sino de la empresa que gestiona el dominio."
   ]
  },
  {
   "cell_type": "markdown",
   "id": "9d3eafbb",
   "metadata": {},
   "source": [
    "#### Tecnología"
   ]
  },
  {
   "cell_type": "markdown",
   "id": "27d3649b",
   "metadata": {},
   "source": [
    "Ahora vamos a intentar averiguar la tecnología utilizada en este sitio web:"
   ]
  },
  {
   "cell_type": "code",
   "execution_count": 3,
   "id": "213bce3d",
   "metadata": {},
   "outputs": [
    {
     "name": "stdout",
     "output_type": "stream",
     "text": [
      "{'cdn': ['Akamai']}\n"
     ]
    }
   ],
   "source": [
    "print(builtwith.builtwith(url))"
   ]
  },
  {
   "cell_type": "markdown",
   "id": "7c4bc72a",
   "metadata": {},
   "source": [
    "Desafortunadamente no podemos obtener esta información ya que la función de la librería sólo nos devuelve el nombre de la [empresa](https://www.akamai.com/es/es/) propietaria de la red de distribución de contenidos ([CDN](https://es.wikipedia.org/wiki/Red_de_distribuci%C3%B3n_de_contenidos)) con la que parece trabajar este sitio."
   ]
  },
  {
   "cell_type": "markdown",
   "id": "7c3de934",
   "metadata": {},
   "source": [
    "#### Contenido del fichero *robots.txt*"
   ]
  },
  {
   "cell_type": "markdown",
   "id": "8e41edc8",
   "metadata": {},
   "source": [
    "A continuación vamos a comprobar si existen limitaciones a la hora de hacer *web scraping* en este sitio  web. Para ello visualizaremos el contenido de su fichero *robots.txt*:"
   ]
  },
  {
   "cell_type": "code",
   "execution_count": 4,
   "id": "6898c892",
   "metadata": {},
   "outputs": [
    {
     "name": "stdout",
     "output_type": "stream",
     "text": [
      "User-agent: *\n",
      "Disallow: /search\n",
      "Sitemap: https://www.rottentomatoes.com/sitemap.xml\n",
      "\n"
     ]
    }
   ],
   "source": [
    "url_robots = \"https://www.rottentomatoes.com/robots.txt\"\n",
    "robots = requests.get(url_robots)\n",
    "print(robots.text)"
   ]
  },
  {
   "cell_type": "markdown",
   "id": "2f4e875d",
   "metadata": {},
   "source": [
    "Como se puede ver, en el fichero apenas se establacen limitaciones para realizar inspecciones automatizadas de su contenido público, apareciendo como única restricción aquellas páginas que pertenecen al directorio \"*/search*\". "
   ]
  },
  {
   "cell_type": "markdown",
   "id": "a97bd6fd",
   "metadata": {},
   "source": [
    "### 3. Obtener los enlaces a las páginas de las películas"
   ]
  },
  {
   "cell_type": "markdown",
   "id": "25e2ff5b",
   "metadata": {},
   "source": [
    "En este tercer paso vamos a obtener los enlaces a las fichas de las películas que aparecían en los listados de mejores valoradas de cada categoría. Para ello utilzaremos las librerías [Selenium WebDriver](https://www.selenium.dev/) y [Beautiful Soup](https://www.crummy.com/software/BeautifulSoup/).\n",
    "\n",
    "* La primera nos permitirá ejecutar un navegador web al que le enviaremos comandos para visitar secuencialmente cada una de las páginas de los listados \"*Top 100*\" que se encuentran en https://www.rottentomatoes.com/top. \n",
    "\n",
    "* Mediante Beautiful Soup analizaremos los documentos HTML de cada uno de esos listados y extraeremos de ellos los enlaces a las fichas de las películas. \n",
    "\n",
    "La siguiente imagen muestra un ejemplo de algunas de las etiquetas HTML que se analizaran para extraer los enlaces a las páginas de las películas:\n",
    "\n",
    "<img src=\"img\\html_parser.png\" style=\"width:420px\" alt=\"detalle película\"/>\n"
   ]
  },
  {
   "cell_type": "code",
   "execution_count": 5,
   "id": "5f910714",
   "metadata": {},
   "outputs": [
    {
     "name": "stdout",
     "output_type": "stream",
     "text": [
      "Analizando: https://www.rottentomatoes.com/top/bestofrt/top_100_action__adventure_movies/\n",
      "Analizando: https://www.rottentomatoes.com/top/bestofrt/top_100_animation_movies/\n",
      "Analizando: https://www.rottentomatoes.com/top/bestofrt/top_100_art_house__international_movies/\n",
      "Analizando: https://www.rottentomatoes.com/top/bestofrt/top_100_classics_movies/\n",
      "Analizando: https://www.rottentomatoes.com/top/bestofrt/top_100_comedy_movies/\n",
      "Analizando: https://www.rottentomatoes.com/top/bestofrt/top_100_documentary_movies/\n",
      "Analizando: https://www.rottentomatoes.com/top/bestofrt/top_100_drama_movies/\n",
      "Analizando: https://www.rottentomatoes.com/top/bestofrt/top_100_horror_movies/\n",
      "Analizando: https://www.rottentomatoes.com/top/bestofrt/top_100_kids__family_movies/\n",
      "Analizando: https://www.rottentomatoes.com/top/bestofrt/top_100_musical__performing_arts_movies/\n",
      "Analizando: https://www.rottentomatoes.com/top/bestofrt/top_100_mystery__suspense_movies/\n",
      "Analizando: https://www.rottentomatoes.com/top/bestofrt/top_100_romance_movies/\n",
      "Analizando: https://www.rottentomatoes.com/top/bestofrt/top_100_science_fiction__fantasy_movies/\n",
      "Analizando: https://www.rottentomatoes.com/top/bestofrt/top_100_special_interest_movies/\n",
      "Analizando: https://www.rottentomatoes.com/top/bestofrt/top_100_sports__fitness_movies/\n",
      "Analizando: https://www.rottentomatoes.com/top/bestofrt/top_100_television_movies/\n",
      "Analizando: https://www.rottentomatoes.com/top/bestofrt/top_100_western_movies/\n"
     ]
    }
   ],
   "source": [
    "driver = Chrome()\n",
    "driver.implicitly_wait(5)\n",
    "driver.get(\"https://www.rottentomatoes.com/top\")\n",
    "\n",
    "listaPeliculas = []\n",
    "totalPeliculas = 0\n",
    "\n",
    "# Esperamos 10 segundos\n",
    "time.sleep(10)\n",
    "\n",
    "# Localizamos el bloque que contiene los enlaces a las mejores películas de cada género\n",
    "bloqueMejoresPeliculas = driver.find_elements(By.XPATH, '//a[contains(@href, \"%s\")]' % \"top/bestofrt/top_100_\")\n",
    "\n",
    "# Extraemos los enlaces de las páginas top 100\n",
    "enlacesTop100 = [enlace.get_attribute('href') for enlace in bloqueMejoresPeliculas]\n",
    "# Extraemos las categorías de cada top 100 \n",
    "categoriasTop100 = [ enlace.find_element_by_xpath(\".//div\").text.replace(\"Top 100\",\"\").replace(\"Movies\",\"\").strip() \n",
    "                     for enlace in bloqueMejoresPeliculas]\n",
    "\n",
    "enlacesCategoriasTop100 = list(zip(categoriasTop100,enlacesTop100))\n",
    "\n",
    "# Accedemos a cada una de las páginas para recuperar los enlaces a las películas recomendadas\n",
    "for paginaTop in enlacesCategoriasTop100:    \n",
    "    \n",
    "    # Esperamos 3 segundos\n",
    "    time.sleep(3)\n",
    "    \n",
    "    # Accedemos a la página del enlace\n",
    "    driver.get(paginaTop[1])\n",
    "    \n",
    "    print (\"Analizando: \" + paginaTop[1])\n",
    "    \n",
    "    # Parseamos la página\n",
    "    paginaTopGenero = driver.page_source    \n",
    "    parserPaginaTopGenero = BeautifulSoup(paginaTopGenero, \"html.parser\")\n",
    "    \n",
    "    # Localizamos la tabla que contiene los enlaces a las reseñas de cada película\n",
    "    cabeceraTablaTop100 = parserPaginaTopGenero.find(lambda tag:tag.name==\"th\" and \"Rank\" in tag.text)\n",
    "    tablaTop100 = cabeceraTablaTop100.find_parents(\"table\")[0]\n",
    "    \n",
    "    listaEnlacesPeliculas = []\n",
    "    \n",
    "    # Cargamos los enlaces de las reseñas de las películas\n",
    "    for filaTop in tablaTop100.find_all(\"tr\")[1:]:                 # evitamos la cabecera de la tabla        \n",
    "        celdasTop = filaTop.find_all(\"td\")\n",
    "        listaEnlacesPeliculas.append(celdasTop[2].find(\"a\")[\"href\"])          \n",
    "    \n",
    "    listaPeliculas.append([paginaTop[0],listaEnlacesPeliculas])    \n",
    "    totalPeliculas = totalPeliculas + len(listaEnlacesPeliculas)\n",
    "    \n",
    "driver.close()\n"
   ]
  },
  {
   "cell_type": "markdown",
   "id": "271a35ca",
   "metadata": {},
   "source": [
    "El código anterior ha almacenado los enlaces a las páginas de cada película en una lista, junto a la categoría a la que pertenecen. A continuación vamos a visualizar una muestra del contenido de dicha lista:"
   ]
  },
  {
   "cell_type": "code",
   "execution_count": 6,
   "id": "689b8179",
   "metadata": {},
   "outputs": [
    {
     "name": "stdout",
     "output_type": "stream",
     "text": [
      "[['Action & Adventure', ['/m/black_panther_2018', '/m/avengers_endgame', '/m/mission_impossible_fallout', '/m/mad_max_fury_road', '/m/spider_man_into_the_spider_verse', '/m/wonder_woman_2017', '/m/dunkirk_2017', '/m/coco_2017', '/m/thor_ragnarok_2017', '/m/logan_2017', '/m/star_wars_the_last_jedi', '/m/star_wars_episode_vii_the_force_awakens', '/m/1000355-adventures_of_robin_hood', '/m/1011615-king_kong', '/m/spider_man_far_from_home', '/m/incredibles_2', '/m/zootopia', '/m/war_for_the_planet_of_the_apes', '/m/spider_man_homecoming', '/m/baby_driver', '/m/seven_samurai_1956', '/m/1013775-metropolis', '/m/jaws', '/m/up', '/m/shazam', '/m/the_dark_knight', '/m/treasure_of_the_sierra_madre', '/m/blade_runner_2049', '/m/1000121-39_steps', '/m/captain_america_civil_war', '/m/the_jungle_book_2016', '/m/harry_potter_and_the_deathly_hallows_part_2_2011', '/m/skyfall', '/m/lawrence_of_arabia', '/m/mission_impossible_rogue_nation', '/m/apocalypse_now', '/m/the_hurt_locker', '/m/the_lego_movie', '/m/star_trek_11', '/m/moana_2016', '/m/avengers_infinity_war', '/m/ant_man_and_the_wasp', '/m/star_wars', '/m/isle_of_dogs_2018', '/m/1019774-stagecoach', '/m/goldfinger', '/m/guardians_of_the_galaxy', '/m/kubo_and_the_two_strings_2016', '/m/wall_e', '/m/marvels_the_avengers', '/m/iron_man', '/m/terminator', '/m/the_african_queen_1951', '/m/rio_bravo', '/m/hunt_for_the_wilderpeople', '/m/french_connection', '/m/the_taking_of_pelham_one_two_three', '/m/john_wick_chapter_3_parabellum', '/m/doctor_strange_2016', '/m/1000617-aliens', '/m/empire_strikes_back', '/m/paths_of_glory', '/m/true_grit_2010', '/m/x_men_days_of_future_past', '/m/bridge_on_the_river_kwai', '/m/badlands', '/m/1031278-gun_crazy', '/m/all_is_lost_2013', '/m/the_lego_batman_movie', '/m/princess_bride', '/m/looper', '/m/chicken_run', '/m/1043378-stalker', '/m/casino_royale', '/m/guardians_of_the_galaxy_vol_2', '/m/the_peanut_butter_falcon', '/m/no_country_for_old_men', '/m/dawn_of_the_planet_of_the_apes', '/m/captain_marvel', '/m/onward', '/m/sicario_2015', '/m/ghostbusters', '/m/ran', '/m/fistful_of_dollars', '/m/1029042-henry_v', '/m/the_lord_of_the_rings_the_two_towers', '/m/captain_america_the_winter_soldier_2014', '/m/back_to_the_future', '/m/1001280-assault_on_precinct_13', '/m/searchers', '/m/deadpool_2', '/m/aguirre_the_wrath_of_god', '/m/crouching_tiger_hidden_dragon', '/m/1046129-fugitive', '/m/apollo_13', '/m/the_lion_king', '/m/bullitt', '/m/catch_me_if_you_can', '/m/annihilation', '/m/who_framed_roger_rabbit']]]\n"
     ]
    }
   ],
   "source": [
    "# Mostramos los enlaces de las películas del primer Top 100\n",
    "print(listaPeliculas[:1])"
   ]
  },
  {
   "cell_type": "markdown",
   "id": "02c729d2",
   "metadata": {},
   "source": [
    "Ahora visualizamos el total de enlaces a películas que se han almacenado:"
   ]
  },
  {
   "cell_type": "code",
   "execution_count": 7,
   "id": "3100bd47",
   "metadata": {},
   "outputs": [
    {
     "name": "stdout",
     "output_type": "stream",
     "text": [
      "1610\n"
     ]
    }
   ],
   "source": [
    "# Mostramos el total de enlaces a películas obtenidos\n",
    "print (totalPeliculas)"
   ]
  },
  {
   "cell_type": "markdown",
   "id": "690e4dcb",
   "metadata": {},
   "source": [
    "### 4. Extraer y almacenar los datos de cada película"
   ]
  },
  {
   "cell_type": "markdown",
   "id": "1eeb5622",
   "metadata": {},
   "source": [
    "Una vez obtenida la lista de enlaces, vamos a recuperar y analizar cada una de las páginas para extraer el contenido con el que generaremos el *dataset*. Los datos que se recogerán son los siguientes: \n",
    " * Título\n",
    " * Año\n",
    " * Sinopsis\n",
    " * Categoría\n",
    " * Valoración de la crítica profesional (puntuación \"*tomatometer*\") \n",
    " * Opinión consensuada de la crítica profesional\n",
    " * Total de críticas profesionales recibidas\n",
    " * Valoración de los usuarios\n",
    " * Total de valoraciones de usuarios recibidas \n",
    " * Ficha técnica: clasificación por edades, género, lenguaje, director, productor, guionista, fecha de estreno en cines, fecha de estreno en plataformas de *streaming*, ingresos generados, duración, sonido, relación de aspecto, colección de películas asociada y los nombres de los actores, director, productores y guionistas.\n",
    " * Enlace a la página de Rotten Tomatoes de la que se ha extraído la información\n",
    " \n",
    "El siguiente código realizará este proceso analizando y extrayendo secuencialmente el contenido de la página de cada película de la lista de enlaces obtenida anteriormente esperando 10 segundos entre peticiones para evitar saturar al servidor, almacenando la información recuperada en una estructura *[dataframe](https://pandas.pydata.org/pandas-docs/stable/reference/api/pandas.DataFrame.html)* de la librería [Pandas](https://pandas.pydata.org/pandas-docs/stable/index.html), que será la que finalmente contenga el *dataset*:\n",
    " "
   ]
  },
  {
   "cell_type": "code",
   "execution_count": 17,
   "id": "9b0f6404",
   "metadata": {},
   "outputs": [
    {
     "name": "stdout",
     "output_type": "stream",
     "text": [
      "Guardando 1610/1610\r"
     ]
    }
   ],
   "source": [
    "# Declaramos la variable que almacenará el dataset\n",
    "ds = None\n",
    "ds = pd.DataFrame()\n",
    "\n",
    "# Variable para registrar el total de filas leídas\n",
    "numFila = 0\n",
    "\n",
    "for item in listaPeliculas:\n",
    "    \n",
    "    categoria = item[0]\n",
    "    peliculas = item[1]\n",
    "    \n",
    "    for pelicula in peliculas:\n",
    "        \n",
    "        # Esperamos 10 segundos\n",
    "        time.sleep(10)\n",
    "\n",
    "        urlFichaPelicula = url + pelicula\n",
    "\n",
    "        # Establecemos la cabecera de la petición request como navegador Chrome\n",
    "        headers = {'User-Agent': 'Mozilla/5.0 (Macintosh; Intel Mac OS X 10_10_1) AppleWebKit/537.36 (KHTML, like Gecko) Chrome/39.0.2171.95 Safari/537.36'}\n",
    "\n",
    "        # Obtenemos la página\n",
    "        paginaFichaPelicula = requests.get(urlFichaPelicula,headers=headers)\n",
    "        \n",
    "        # Si no podemos acceder a la página terminamos el proceso\n",
    "        if paginaFichaPelicula.status_code != 200:\n",
    "            print(\"Se ha producido un error: \" + str(paginaFichaPelicula.status_code))\n",
    "            break\n",
    "\n",
    "        # Parseamos la página\n",
    "        parserFichaPelicula = BeautifulSoup(paginaFichaPelicula.content, \"html.parser\")   \n",
    "\n",
    "        # Guardamos el título\n",
    "        tituloAnio = parserFichaPelicula.find(\"title\").text.replace(\"- Rotten Tomatoes\",\"\") if parserFichaPelicula.find(\"title\") else \"\"\n",
    "        titulo = re.sub(\"\\s\\(\\d{4}\\)\", \"\", tituloAnio).strip()\n",
    "        ds.at[numFila, \"title\"] = titulo if titulo != \"\" else None\n",
    "        \n",
    "        # Guardamos el año\n",
    "        anio = re.findall(r\"\\(\\d{4}\\)\", tituloAnio)[0].replace(\"(\",\"\").replace(\")\",\"\")\n",
    "        ds.at[numFila, \"year\"] = anio\n",
    "        \n",
    "        # Guardamos la sinopsis\n",
    "        sinopsis = parserFichaPelicula.find(id=\"movieSynopsis\")\n",
    "        ds.at[numFila, \"synopsis\"] = sinopsis.text.strip() if sinopsis else None \n",
    "\n",
    "        # Guardamos la valoración de la crítica\n",
    "        valoracionCritica = parserFichaPelicula.find(\"score-board\", {\"class\": \"scoreboard\"})[\"tomatometerscore\"]     \n",
    "        ds.at[numFila, \"critic_score\"] = valoracionCritica if valoracionCritica else None\n",
    "\n",
    "        # Guardamos la valoración de los usuarios\n",
    "        valoracionComunidad = parserFichaPelicula.find(\"score-board\", {\"class\": \"scoreboard\"})[\"audiencescore\"]    \n",
    "        ds.at[numFila, \"people_score\"] = valoracionComunidad if valoracionComunidad else None\n",
    "\n",
    "        # Guardamos el consenso de la crítica\n",
    "        criticaGeneral = parserFichaPelicula.find(\"span\", {\"data-qa\":\"critics-consensus\"})    \n",
    "        ds.at[numFila,\"consensus\"] = criticaGeneral.text.strip() if criticaGeneral else None\n",
    "\n",
    "        # Guardamos el total de críticas\n",
    "        totalCriticas = parserFichaPelicula.find(\"a\", {\"data-qa\":\"tomatometer-review-count\"})    \n",
    "        ds.at[numFila,\"total_reviews\"] = totalCriticas.text.replace(\"Reviews\",\"\").strip() if totalCriticas else None\n",
    "        \n",
    "        # Guardamos el total de valoraciones\n",
    "        totalValoraciones = parserFichaPelicula.find(\"a\", {\"data-qa\":\"audience-rating-count\"})    \n",
    "        ds.at[numFila,\"total_ratings\"] = totalValoraciones.text.replace(\"Ratings\",\"\").strip() if totalValoraciones else None\n",
    "        \n",
    "        # Guardamos la categoría (tipo)\n",
    "        ds.at[numFila,\"type\"] = categoria\n",
    "        \n",
    "        # Guardamos la ficha técnica\n",
    "        for elemento in parserFichaPelicula.find_all(\"li\", {\"data-qa\": \"movie-info-item\"}):\n",
    "            # Apartado de la ficha\n",
    "            apartado = elemento.find(\"div\", {\"data-qa\": \"movie-info-item-label\"}).text.strip().replace(\"\\n\", \" \")\n",
    "            apartado = apartado.replace(\":\",\"\")\n",
    "            apartado = apartado.replace(\" \",\"_\")\n",
    "            apartado = apartado.lower()        \n",
    "            # Valor del apartado\n",
    "            valor = elemento.find(\"div\", {\"data-qa\": \"movie-info-item-value\"}).text.strip().replace(\"\\n\", \" \")\n",
    "            valor =  re.sub(\"\\s+\",\" \",valor)\n",
    "            # Guardamos el par apartado/valor\n",
    "            ds.at[numFila, apartado] = valor\n",
    "\n",
    "        # Guardamos el personal de la película (actores, productores, etc.)\n",
    "        personal = []\n",
    "        for persona in parserFichaPelicula.find_all(\"a\", {\"data-qa\": \"cast-crew-item-link\"}):    \n",
    "            personal.append(persona.text.strip())\n",
    "        \n",
    "        ds.at[numFila, \"crew\"] = \", \".join(personal)\n",
    "\n",
    "        # Guardamos el enlace a la reseña\n",
    "        ds.at[numFila, \"link\"] = urlFichaPelicula\n",
    "\n",
    "        numFila = numFila + 1\n",
    "\n",
    "        print (\"Guardando \" + str(numFila) + \"/\" + str(totalPeliculas), end=\"\\r\")        \n"
   ]
  },
  {
   "cell_type": "markdown",
   "id": "0b2e7cbf",
   "metadata": {},
   "source": [
    "### 5.  Detalles del *dataset* obtenido"
   ]
  },
  {
   "cell_type": "markdown",
   "id": "14e85992",
   "metadata": {},
   "source": [
    "A continuación vamos a visualizar las dimensiones del *dataset* y una muestra de los datos que se han almacenado:"
   ]
  },
  {
   "cell_type": "code",
   "execution_count": 19,
   "id": "2f98d82d",
   "metadata": {},
   "outputs": [
    {
     "name": "stdout",
     "output_type": "stream",
     "text": [
      "(1610, 25)\n"
     ]
    },
    {
     "data": {
      "text/html": [
       "<div>\n",
       "<style scoped>\n",
       "    .dataframe tbody tr th:only-of-type {\n",
       "        vertical-align: middle;\n",
       "    }\n",
       "\n",
       "    .dataframe tbody tr th {\n",
       "        vertical-align: top;\n",
       "    }\n",
       "\n",
       "    .dataframe thead th {\n",
       "        text-align: right;\n",
       "    }\n",
       "</style>\n",
       "<table border=\"1\" class=\"dataframe\">\n",
       "  <thead>\n",
       "    <tr style=\"text-align: right;\">\n",
       "      <th></th>\n",
       "      <th>title</th>\n",
       "      <th>year</th>\n",
       "      <th>synopsis</th>\n",
       "      <th>critic_score</th>\n",
       "      <th>people_score</th>\n",
       "      <th>consensus</th>\n",
       "      <th>total_reviews</th>\n",
       "      <th>total_ratings</th>\n",
       "      <th>type</th>\n",
       "      <th>rating</th>\n",
       "      <th>...</th>\n",
       "      <th>release_date_(theaters)</th>\n",
       "      <th>release_date_(streaming)</th>\n",
       "      <th>box_office_(gross_usa)</th>\n",
       "      <th>runtime</th>\n",
       "      <th>production_co</th>\n",
       "      <th>sound_mix</th>\n",
       "      <th>aspect_ratio</th>\n",
       "      <th>view_the_collection</th>\n",
       "      <th>crew</th>\n",
       "      <th>link</th>\n",
       "    </tr>\n",
       "  </thead>\n",
       "  <tbody>\n",
       "    <tr>\n",
       "      <th>0</th>\n",
       "      <td>Black Panther</td>\n",
       "      <td>2018</td>\n",
       "      <td>After the death of his father, T'Challa return...</td>\n",
       "      <td>96</td>\n",
       "      <td>79</td>\n",
       "      <td>Black Panther elevates superhero cinema to thr...</td>\n",
       "      <td>519</td>\n",
       "      <td>50,000+</td>\n",
       "      <td>Action &amp; Adventure</td>\n",
       "      <td>PG-13 (Sequences of Action Violence|A Brief Ru...</td>\n",
       "      <td>...</td>\n",
       "      <td>Feb 16, 2018 wide</td>\n",
       "      <td>May 2, 2018</td>\n",
       "      <td>$700.2M</td>\n",
       "      <td>2h 14m</td>\n",
       "      <td>Walt Disney Pictures</td>\n",
       "      <td>DTS, Dolby Atmos</td>\n",
       "      <td>Scope (2.35:1)</td>\n",
       "      <td>Marvel Cinematic Universe</td>\n",
       "      <td>Chadwick Boseman, Michael B. Jordan, Lupita Ny...</td>\n",
       "      <td>http://www.rottentomatoes.com/m/black_panther_...</td>\n",
       "    </tr>\n",
       "    <tr>\n",
       "      <th>1</th>\n",
       "      <td>Avengers: Endgame</td>\n",
       "      <td>2019</td>\n",
       "      <td>Adrift in space with no food or water, Tony St...</td>\n",
       "      <td>94</td>\n",
       "      <td>90</td>\n",
       "      <td>Exciting, entertaining, and emotionally impact...</td>\n",
       "      <td>538</td>\n",
       "      <td>50,000+</td>\n",
       "      <td>Action &amp; Adventure</td>\n",
       "      <td>PG-13 (Sequences of Sci-Fi Violence|Action|Som...</td>\n",
       "      <td>...</td>\n",
       "      <td>Apr 26, 2019 wide</td>\n",
       "      <td>Jul 30, 2019</td>\n",
       "      <td>$858.4M</td>\n",
       "      <td>3h 1m</td>\n",
       "      <td>Marvel Studios, Walt Disney Pictures</td>\n",
       "      <td>Dolby Atmos, DTS, Dolby Digital, SDDS</td>\n",
       "      <td>Scope (2.35:1)</td>\n",
       "      <td>Marvel Cinematic Universe</td>\n",
       "      <td>Robert Downey Jr., Chris Evans, Mark Ruffalo, ...</td>\n",
       "      <td>http://www.rottentomatoes.com/m/avengers_endgame</td>\n",
       "    </tr>\n",
       "    <tr>\n",
       "      <th>2</th>\n",
       "      <td>Mission: Impossible -- Fallout</td>\n",
       "      <td>2018</td>\n",
       "      <td>Ethan Hunt and the IMF team join forces with C...</td>\n",
       "      <td>97</td>\n",
       "      <td>88</td>\n",
       "      <td>Fast, sleek, and fun, Mission: Impossible - Fa...</td>\n",
       "      <td>433</td>\n",
       "      <td>10,000+</td>\n",
       "      <td>Action &amp; Adventure</td>\n",
       "      <td>PG-13 (Intense Sequences of Action|Brief Stron...</td>\n",
       "      <td>...</td>\n",
       "      <td>Jul 27, 2018 wide</td>\n",
       "      <td>Nov 20, 2018</td>\n",
       "      <td>$220.1M</td>\n",
       "      <td>2h 27m</td>\n",
       "      <td>Bad Robot, Tom Cruise</td>\n",
       "      <td>DTS, Dolby Atmos, Dolby Digital</td>\n",
       "      <td>Scope (2.35:1)</td>\n",
       "      <td>NaN</td>\n",
       "      <td>Tom Cruise, Henry Cavill, Ving Rhames, Simon P...</td>\n",
       "      <td>http://www.rottentomatoes.com/m/mission_imposs...</td>\n",
       "    </tr>\n",
       "    <tr>\n",
       "      <th>3</th>\n",
       "      <td>Mad Max: Fury Road</td>\n",
       "      <td>2015</td>\n",
       "      <td>Years after the collapse of civilization, the ...</td>\n",
       "      <td>97</td>\n",
       "      <td>86</td>\n",
       "      <td>With exhilarating action and a surprising amou...</td>\n",
       "      <td>427</td>\n",
       "      <td>100,000+</td>\n",
       "      <td>Action &amp; Adventure</td>\n",
       "      <td>R (Intense Sequences of Violence|Disturbing Im...</td>\n",
       "      <td>...</td>\n",
       "      <td>May 15, 2015 wide</td>\n",
       "      <td>Aug 10, 2016</td>\n",
       "      <td>$153.6M</td>\n",
       "      <td>2h</td>\n",
       "      <td>Kennedy Miller Mitchell, Village Roadshow Pict...</td>\n",
       "      <td>Dolby Atmos</td>\n",
       "      <td>Scope (2.35:1)</td>\n",
       "      <td>NaN</td>\n",
       "      <td>Tom Hardy, Charlize Theron, Nicholas Hoult, Hu...</td>\n",
       "      <td>http://www.rottentomatoes.com/m/mad_max_fury_road</td>\n",
       "    </tr>\n",
       "    <tr>\n",
       "      <th>4</th>\n",
       "      <td>Spider-Man: Into the Spider-Verse</td>\n",
       "      <td>2018</td>\n",
       "      <td>Bitten by a radioactive spider in the subway, ...</td>\n",
       "      <td>97</td>\n",
       "      <td>93</td>\n",
       "      <td>Spider-Man: Into the Spider-Verse matches bold...</td>\n",
       "      <td>387</td>\n",
       "      <td>10,000+</td>\n",
       "      <td>Action &amp; Adventure</td>\n",
       "      <td>PG (Mild Language|Frenetic Action Violence|The...</td>\n",
       "      <td>...</td>\n",
       "      <td>Dec 14, 2018 wide</td>\n",
       "      <td>Mar 7, 2019</td>\n",
       "      <td>$190.2M</td>\n",
       "      <td>1h 57m</td>\n",
       "      <td>Lord Miller, Sony Pictures Animation, Pascal P...</td>\n",
       "      <td>Dolby Atmos, DTS, Dolby Digital, SDDS</td>\n",
       "      <td>Scope (2.35:1)</td>\n",
       "      <td>NaN</td>\n",
       "      <td>Shameik Moore, Hailee Steinfeld, Mahershala Al...</td>\n",
       "      <td>http://www.rottentomatoes.com/m/spider_man_int...</td>\n",
       "    </tr>\n",
       "  </tbody>\n",
       "</table>\n",
       "<p>5 rows × 25 columns</p>\n",
       "</div>"
      ],
      "text/plain": [
       "                               title  year  \\\n",
       "0                      Black Panther  2018   \n",
       "1                  Avengers: Endgame  2019   \n",
       "2     Mission: Impossible -- Fallout  2018   \n",
       "3                 Mad Max: Fury Road  2015   \n",
       "4  Spider-Man: Into the Spider-Verse  2018   \n",
       "\n",
       "                                            synopsis critic_score  \\\n",
       "0  After the death of his father, T'Challa return...           96   \n",
       "1  Adrift in space with no food or water, Tony St...           94   \n",
       "2  Ethan Hunt and the IMF team join forces with C...           97   \n",
       "3  Years after the collapse of civilization, the ...           97   \n",
       "4  Bitten by a radioactive spider in the subway, ...           97   \n",
       "\n",
       "  people_score                                          consensus  \\\n",
       "0           79  Black Panther elevates superhero cinema to thr...   \n",
       "1           90  Exciting, entertaining, and emotionally impact...   \n",
       "2           88  Fast, sleek, and fun, Mission: Impossible - Fa...   \n",
       "3           86  With exhilarating action and a surprising amou...   \n",
       "4           93  Spider-Man: Into the Spider-Verse matches bold...   \n",
       "\n",
       "  total_reviews total_ratings                type  \\\n",
       "0           519       50,000+  Action & Adventure   \n",
       "1           538       50,000+  Action & Adventure   \n",
       "2           433       10,000+  Action & Adventure   \n",
       "3           427      100,000+  Action & Adventure   \n",
       "4           387       10,000+  Action & Adventure   \n",
       "\n",
       "                                              rating  ...  \\\n",
       "0  PG-13 (Sequences of Action Violence|A Brief Ru...  ...   \n",
       "1  PG-13 (Sequences of Sci-Fi Violence|Action|Som...  ...   \n",
       "2  PG-13 (Intense Sequences of Action|Brief Stron...  ...   \n",
       "3  R (Intense Sequences of Violence|Disturbing Im...  ...   \n",
       "4  PG (Mild Language|Frenetic Action Violence|The...  ...   \n",
       "\n",
       "  release_date_(theaters) release_date_(streaming) box_office_(gross_usa)  \\\n",
       "0       Feb 16, 2018 wide              May 2, 2018                $700.2M   \n",
       "1       Apr 26, 2019 wide             Jul 30, 2019                $858.4M   \n",
       "2       Jul 27, 2018 wide             Nov 20, 2018                $220.1M   \n",
       "3       May 15, 2015 wide             Aug 10, 2016                $153.6M   \n",
       "4       Dec 14, 2018 wide              Mar 7, 2019                $190.2M   \n",
       "\n",
       "  runtime                                      production_co  \\\n",
       "0  2h 14m                               Walt Disney Pictures   \n",
       "1   3h 1m               Marvel Studios, Walt Disney Pictures   \n",
       "2  2h 27m                              Bad Robot, Tom Cruise   \n",
       "3      2h  Kennedy Miller Mitchell, Village Roadshow Pict...   \n",
       "4  1h 57m  Lord Miller, Sony Pictures Animation, Pascal P...   \n",
       "\n",
       "                               sound_mix    aspect_ratio  \\\n",
       "0                       DTS, Dolby Atmos  Scope (2.35:1)   \n",
       "1  Dolby Atmos, DTS, Dolby Digital, SDDS  Scope (2.35:1)   \n",
       "2        DTS, Dolby Atmos, Dolby Digital  Scope (2.35:1)   \n",
       "3                            Dolby Atmos  Scope (2.35:1)   \n",
       "4  Dolby Atmos, DTS, Dolby Digital, SDDS  Scope (2.35:1)   \n",
       "\n",
       "         view_the_collection  \\\n",
       "0  Marvel Cinematic Universe   \n",
       "1  Marvel Cinematic Universe   \n",
       "2                        NaN   \n",
       "3                        NaN   \n",
       "4                        NaN   \n",
       "\n",
       "                                                crew  \\\n",
       "0  Chadwick Boseman, Michael B. Jordan, Lupita Ny...   \n",
       "1  Robert Downey Jr., Chris Evans, Mark Ruffalo, ...   \n",
       "2  Tom Cruise, Henry Cavill, Ving Rhames, Simon P...   \n",
       "3  Tom Hardy, Charlize Theron, Nicholas Hoult, Hu...   \n",
       "4  Shameik Moore, Hailee Steinfeld, Mahershala Al...   \n",
       "\n",
       "                                                link  \n",
       "0  http://www.rottentomatoes.com/m/black_panther_...  \n",
       "1   http://www.rottentomatoes.com/m/avengers_endgame  \n",
       "2  http://www.rottentomatoes.com/m/mission_imposs...  \n",
       "3  http://www.rottentomatoes.com/m/mad_max_fury_road  \n",
       "4  http://www.rottentomatoes.com/m/spider_man_int...  \n",
       "\n",
       "[5 rows x 25 columns]"
      ]
     },
     "execution_count": 19,
     "metadata": {},
     "output_type": "execute_result"
    }
   ],
   "source": [
    "# Dimensiones del dataset\n",
    "print(ds.shape)\n",
    "\n",
    "# Mostramos los primeros registros del dataset\n",
    "ds.head()"
   ]
  },
  {
   "cell_type": "markdown",
   "id": "af9bcf9e",
   "metadata": {},
   "source": [
    "Como se puede ver, se han registrado 1.610 filas, tantas como enlaces se habían guardado en la lista creada en el tercer apartado. Sin embargo, esto no quiere decir que se hayan almacenado 1.610 películas distintas, ya que una misma película puede aparecer en más de un \"Top 100\" de Rotten Tomatoes. \n",
    "\n",
    "La siguiente línea de código devuelve el número total de películas diferentes que existen en el *dataset*:\n"
   ]
  },
  {
   "cell_type": "code",
   "execution_count": 20,
   "id": "9a5311b4",
   "metadata": {},
   "outputs": [
    {
     "name": "stdout",
     "output_type": "stream",
     "text": [
      "982\n"
     ]
    }
   ],
   "source": [
    "# Total de películas diferentes\n",
    "print(ds[\"title\"].nunique())"
   ]
  },
  {
   "cell_type": "markdown",
   "id": "bd5fe8a5",
   "metadata": {},
   "source": [
    "Como se puede ver, el número de películas distintas (982) es sensiblemente inferior a la cantidad de enlaces que fueron recopilados en el tercer paso (1.610), lo que confirma que muchas películas aparecen en más de un listado *Top 100*. \n",
    "\n",
    "A continuación vamos a visualizar el total de valores no nulos almacenados en cada una de las columnas del *dataframe* de pandas:"
   ]
  },
  {
   "cell_type": "code",
   "execution_count": 21,
   "id": "873737ce",
   "metadata": {},
   "outputs": [
    {
     "name": "stdout",
     "output_type": "stream",
     "text": [
      "title                       1610\n",
      "year                        1610\n",
      "synopsis                    1610\n",
      "critic_score                1610\n",
      "people_score                1609\n",
      "consensus                   1593\n",
      "total_reviews               1610\n",
      "total_ratings               1610\n",
      "type                        1610\n",
      "rating                      1139\n",
      "genre                       1603\n",
      "original_language           1570\n",
      "director                    1609\n",
      "producer                    1490\n",
      "writer                      1266\n",
      "release_date_(theaters)     1103\n",
      "release_date_(streaming)    1595\n",
      "box_office_(gross_usa)      1102\n",
      "runtime                     1603\n",
      "production_co               1487\n",
      "sound_mix                    925\n",
      "aspect_ratio                 664\n",
      "view_the_collection          178\n",
      "crew                        1610\n",
      "link                        1610\n",
      "dtype: int64\n"
     ]
    },
    {
     "data": {
      "image/png": "[encoded data removed]",
      "text/plain": [
       "<Figure size 1224x360 with 1 Axes>"
      ]
     },
     "metadata": {
      "needs_background": "light"
     },
     "output_type": "display_data"
    }
   ],
   "source": [
    "# Total de valores no nulos por columna\n",
    "print(ds.count())\n",
    "\n",
    "# Representación gráfica de los valores no nulos por columna\n",
    "ds.count().plot(kind=\"bar\",alpha=0.5,figsize=(17,5))\n",
    "plt.show()"
   ]
  },
  {
   "cell_type": "markdown",
   "id": "5de79d6a",
   "metadata": {},
   "source": [
    "Por último, vamos a mostrar un ejemplo de las gráficas que se pueden generar para cononcer cómo se distribuyen los datos recogidos en el *dataset* que hemos generado.\n",
    "\n",
    "El siguiente código genera estas cuatro gráficas:\n",
    "\n",
    "1. Total de películas por categoría.\n",
    "2. Total de películas por año de producción.\n",
    "3. Suma de las puntuaciones obtenidas por categoría (películas de la última década).\n",
    "4. Suma de las puntuaciones obtenidas por año (películas de la última década).\n",
    "\n",
    "Para poder generar estas gráficas convertiremos en valores numéricos el año y la puntuación de la crítica de cada película. Estas conversiones son parte de las operaciones de limpieza que se deberán llevar a cabo para poder utilizar este *dataset* en proyectos analíticos (otras serían, por ejemplo, eliminar las películas repetidas, convertir a valor numérico la recaudación total o la limpieza de los valores de las fechas de estreno en cines)"
   ]
  },
  {
   "cell_type": "code",
   "execution_count": 23,
   "id": "f93b16aa",
   "metadata": {},
   "outputs": [
    {
     "data": {
      "image/png": "[encoded data removed]",
      "text/plain": [
       "<Figure size 1152x1080 with 4 Axes>"
      ]
     },
     "metadata": {
      "needs_background": "light"
     },
     "output_type": "display_data"
    }
   ],
   "source": [
    "%matplotlib inline\n",
    "import warnings\n",
    "warnings.filterwarnings(\"ignore\")\n",
    "\n",
    "# Cambiar el tipo de las columnas year y critic_score (por defecto son \"object\")\n",
    "\n",
    "ds[\"year\"] = pd.to_numeric(ds[\"year\"])\n",
    "ds[\"critic_score\"] = pd.to_numeric(ds[\"critic_score\"])\n",
    "\n",
    "#subplot(nrows, ncols, plot_number)\n",
    "\n",
    "# Distribución de las películas por categoría\n",
    "plt.subplot(2, 2, 1)\n",
    "ds.type.value_counts().plot(kind=\"bar\",alpha=0.5,figsize=(16,15))\n",
    "plt.title(\"Total películas por categoría\")\n",
    "\n",
    "# Distribución de las películas por año\n",
    "plt.subplot(2, 2, 2)\n",
    "ds.year.plot.hist(alpha=0.5)\n",
    "plt.title(\"Total películas por año\")\n",
    "\n",
    "# Puntuación total por categoría de las películas de la última década\n",
    "plt.subplot(2, 2, 3)\n",
    "ds[ds.year.astype(float) > 2009][\"critic_score\"].groupby(ds.type).sum().plot(kind=\"bar\",alpha=0.5)\n",
    "plt.title(\"Suma puntuación crítica por categoría (última década)\")\n",
    "\n",
    "# Puntuación total por año de las películas de la última década\n",
    "plt.subplot(2, 2, 4)\n",
    "ds[ds.year.astype(float) > 2009][\"critic_score\"].groupby(ds.year).sum().plot(kind=\"bar\",alpha=0.5)\n",
    "plt.title(\"Suma puntuación crítica por año (última década)\")\n",
    "\n",
    "plt.tight_layout()\n",
    "plt.show()\n"
   ]
  },
  {
   "cell_type": "markdown",
   "id": "ac12c0ad",
   "metadata": {},
   "source": [
    "Para finalizar, guardaremos el conjunto de datos en un fichero CSV:"
   ]
  },
  {
   "cell_type": "code",
   "execution_count": 24,
   "id": "ad3ee002",
   "metadata": {},
   "outputs": [],
   "source": [
    "# Guardamos el dataset como fichero de texto separado por comas\n",
    "ds.to_csv(\"rotten_tomatoes_top_movies.csv\") \n"
   ]
  },
  {
   "cell_type": "code",
   "execution_count": null,
   "id": "6ed07246",
   "metadata": {},
   "outputs": [],
   "source": []
  }
 ],
 "metadata": {
  "kernelspec": {
   "display_name": "Python 3",
   "language": "python",
   "name": "python3"
  },
  "language_info": {
   "codemirror_mode": {
    "name": "ipython",
    "version": 3
   },
   "file_extension": ".py",
   "mimetype": "text/x-python",
   "name": "python",
   "nbconvert_exporter": "python",
   "pygments_lexer": "ipython3",
   "version": "3.7.10"
  }
 },
 "nbformat": 4,
 "nbformat_minor": 5
}
